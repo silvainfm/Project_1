{
 "cells": [
  {
   "cell_type": "code",
   "execution_count": null,
   "metadata": {},
   "outputs": [],
   "source": [
    "# imports\n",
    "import panel as pn\n",
    "pn.extension('plotly')\n",
    "import plotly.express as px\n",
    "import pandas as pd\n",
    "import hvplot.pandas\n",
    "import matplotlib.pyplot as plt\n",
    "import os\n",
    "from dotenv import load_dotenv\n",
    "#from alpaca_sheet import"
   ]
  },
  {
   "cell_type": "code",
   "execution_count": null,
   "metadata": {},
   "outputs": [],
   "source": [
    "''' Requirements: \n",
    "We are a fund for college students with higher risk exposure\n",
    "Investment horizon of at least 10 years - Buy & Hold strategy is best \n",
    "Figure out weights of stocks, bonds, crypto (covered calls?)\n",
    "3 tranches of the fund with different of risk, different weights in the categories\n",
    "Use MCForecasting to forecast returns \n",
    "Maybe backtest it from 2015 onwards\n",
    "'''"
   ]
  },
  {
   "cell_type": "code",
   "execution_count": null,
   "metadata": {},
   "outputs": [],
   "source": [
    "# Define Panel Visualization Functions \n",
    "# 6-8 visualization in the dashboards\n",
    "def fund_1():\n",
    "    #fund 1 weights and info\n",
    "    fund1_weight = plt.figure()\n",
    "    fund1 = data.mean()\n",
    "    fund1_min = min()\n",
    "    fund1_max = max()\n",
    "    fund1_std = fund1.std()\n",
    "    fund1_plt = fund1.plot.pie(ylim=[var_min - var_std, \n",
    "                                                  var_max+var_std],\n",
    "                                            title='', \n",
    "                                            xlabel='Asset Class', ylabel='')\n",
    "    #plt.show()\n",
    "    plt.close(fund1_plt)\n",
    "    return pn.pane.Matplotlib(fund1_plt)\n",
    "\n",
    "def simulation_1_1():\n",
    "    #Plot from sim or backtest\n",
    "    sim_data = sfo_data\n",
    "    sim_data_fig = plt.figure()\n",
    "    plot_sim_data = sim_data.plot(title='', \n",
    "                                              xlabel='Year', ylabel='')\n",
    "    #plt.show()\n",
    "    plt.close(fig_avg_gross_rent)\n",
    "    return pn.pane.Matplotlib(fig_avg_gross_rent)\n",
    "\n"
   ]
  },
  {
   "cell_type": "code",
   "execution_count": null,
   "metadata": {},
   "outputs": [],
   "source": [
    "# Create panels to structure the layout of the dashboard\n",
    "title = pn.pane.Markdown(\"Real Estate Analysis of SF from 2010 to 2020\")\n",
    "welcome = pn.pane.Markdown(\"\"\"Welcome!\"\"\")\n",
    "tabs = pn.Tabs((\"Welcome\",pn.Column(welcome)), \n",
    "                (\"Yearly Market Analysis\", pn.Row(housing_units_per_year(),average_gross_rent(),average_sales_price())),\n",
    "               (\"Neighborhood Analysis\", pn.Column(average_price_by_neighborhood(),top_most_expensive_neighborhoods())),\n",
    "               (\"Parallel Plots Analysis\", pn.Column(parallel_coordinates(),parallel_categories())))\n",
    "sfh_dashboard = pn.Column(pn.Row(title),tabs)"
   ]
  }
 ],
 "metadata": {
  "kernelspec": {
   "display_name": "Python [conda env:pyvizenv]",
   "language": "python",
   "name": "conda-env-pyvizenv-py"
  },
  "language_info": {
   "codemirror_mode": {
    "name": "ipython",
    "version": 3
   },
   "file_extension": ".py",
   "mimetype": "text/x-python",
   "name": "python",
   "nbconvert_exporter": "python",
   "pygments_lexer": "ipython3",
   "version": "3.7.7"
  }
 },
 "nbformat": 4,
 "nbformat_minor": 4
}
